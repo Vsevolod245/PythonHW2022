{
  "nbformat": 4,
  "nbformat_minor": 0,
  "metadata": {
    "colab": {
      "provenance": []
    },
    "kernelspec": {
      "name": "python3",
      "display_name": "Python 3"
    },
    "language_info": {
      "name": "python"
    }
  },
  "cells": [
    {
      "cell_type": "code",
      "execution_count": null,
      "metadata": {
        "id": "txgVfTyCYSgT"
      },
      "outputs": [],
      "source": [
        "drone_list = [\"DJI Mavic 2 Pro\", \"DJI Mavic 2 Zoom\", \"DJI Mavic 2 Enterprise Advanced\", \"AUTEL Evo II Pro\", \"DJI Mini 2\", \"Autel Evo Nano\", \"Autel Evo Lite Plus\", \"Parrot Anafi\", \"Dji Inspire 2\", \"DJI Mavic 3\", \"DJI Mavic Air2s\", \"Ryze Tello\", \"Eachine Trashcan\"]\n",
        "\n",
        "drone_weight_list = [903, 900, 920, 980, 249, 249, 600, 540, 1500, 1000, 570, 130, 110]\n",
        "\n",
        "#в drone по очереди попадает каждый дрон из списка drone_list\n",
        "for drone in drone_list:\n",
        "\tprint(drone)\n",
        " \n",
        " #-------------------------------------------------------------------------------\n",
        "def Contains(word, sentence):\n",
        "  for i in range(0, len(sentence)):\n",
        "    if(len(sentence)-i-1<len(word)):\n",
        "      return False\n",
        "    for j in range(0, len(word)):\n",
        "      if(word[j] != sentence[i+j]):\n",
        "        break\n",
        "      if(j == len(word)-1):\n",
        "        return True\n",
        "#-------------------------------------------------------------------------------\n",
        "def PrepareOutputString(droneName):\n",
        "  split = droneName.split()\n",
        "  if(split[0].casefold() == \"dji\"):\n",
        "    out = \"DJI \"\n",
        "    for i in range(1,len(split)-1):\n",
        "      out = out+split[i]+\" \"\n",
        "    out = out+split[-1]\n",
        "    return out\n",
        "  out = split[0].casefold().title()+\" \"\n",
        "  for i in range(1,len(split)-1):\n",
        "    out = out+split[i]+\" \"\n",
        "  out = out+split[-1]\n",
        "  return out\n",
        "#-------------------------------------------------------------------------------"
      ]
    },
    {
      "cell_type": "code",
      "source": [
        "#TODO1\n",
        "#выведите все дроны производителя, название которого введет пользователь через input, и подсчитайте их количество. \n",
        "#учтите, что:\n",
        "#1) DJI и Dji - это один и тот же производитель! такие случаи тоже должны обрабатываться\n",
        "#2) при выводе исправьте название производителя, если допущена ошибка. правильный вариант названия: DJI, Autel\n",
        "#-------------------------------------------------------------------------------\n",
        "companyName = input().casefold()\n",
        "for droneName in drone_list:\n",
        "  if (droneName.casefold().startswith(companyName)):\n",
        "    print(PrepareOutputString(droneName))\n",
        "#-------------------------------------------------------------------------------"
      ],
      "metadata": {
        "id": "dtXTHyQxYgue"
      },
      "execution_count": null,
      "outputs": []
    },
    {
      "cell_type": "code",
      "source": [
        "#TODO2\n",
        "#подсчитайте количество моделей дронов каждого производителя из списка drone_list. производители: DJI, Autel, Parrot, Ryze, Eachine\n",
        "#-------------------------------------------------------------------------------\n",
        "companyNames = [\"DJI\", \"Autel\", \"Parrot\", \"Ryze\", \"Eachine\"]\n",
        "modelsQty = [0, 0, 0, 0, 0]\n",
        "for drone in drone_list:\n",
        "  for i in range(0, len(companyNames)):\n",
        "    if(Contains(companyNames[i].lower(), drone.lower())):\n",
        "      modelsQty[i] = modelsQty[i] + 1\n",
        "      break\n",
        "\n",
        "for i in range(0, len(companyNames)):\n",
        "  print(companyNames[i], \"-\", modelsQty[i])\n",
        "#-------------------------------------------------------------------------------"
      ],
      "metadata": {
        "id": "jvy8zjFpYuNk"
      },
      "execution_count": null,
      "outputs": []
    },
    {
      "cell_type": "code",
      "source": [
        "#TODO3\n",
        "#выведите все дроны из списка, которые нужно регистрировать (масса больше 150 г), и подсчитайте их количество. \n",
        "#сделайте то же самое для всех дронов, которые не нужно регистрировать\n",
        "#для этого вам нужно параллельно обрабатывать два списка: drone_list и drone_weight_list:\n",
        "#как работает zip, мы разберем на лекции про списки. пока что просто пользуйтесь\n",
        "#-------------------------------------------------------------------------------\n",
        "registredList = []\n",
        "unregistredList = []\n",
        "for drone, weight in zip(drone_list,  drone_weight_list):\n",
        "  if(weight > 150):\n",
        "   registredList.append(drone+str(weight))\n",
        "  else:\n",
        "    unregistredList.append(drone+str(weight))\n",
        "print(len(registredList), \"- число дронов, которые нужно регистрировать. Название этих дронов:\")\n",
        "print(\"\\n\".join(registredList))\n",
        "print()\n",
        "print(len(unregistredList), \"- число дронов, короые НЕ нужно регистрировать. Название этих дронов:\")\n",
        "print(\"\\n\".join(unregistredList))\n",
        "#-------------------------------------------------------------------------------"
      ],
      "metadata": {
        "id": "mxZRU5oBxuF2"
      },
      "execution_count": null,
      "outputs": []
    },
    {
      "cell_type": "code",
      "source": [
        "#TODO4\n",
        "#для каждого дрона из списка выведите, нудно ли согласовывать полет при следующих условиях:\n",
        "#высота 100 м, полет над населенным пунктом, вне закрытых зон, в прямой видимости\n",
        "#помните, что для дронов тяжелее 150 г согласовывать полет над населенным пунктом - обязательно!\n",
        "#-------------------------------------------------------------------------------\n",
        "latitude = 100\n",
        "overCommunity = True\n",
        "inSight = True\n",
        "closedSky = False\n",
        "for drone, weight in zip(drone_list,  drone_weight_list):\n",
        "  if(weight > 150 and overCommunity or latitude > 250 or closedSky or not inSight):\n",
        "    print(drone,\"- нужно согласовывать\")\n",
        "  else: print(drone,\"- не нужно согласовывать\")\n",
        "#-------------------------------------------------------------------------------"
      ],
      "metadata": {
        "id": "zwW5n1Gv82xf"
      },
      "execution_count": null,
      "outputs": []
    },
    {
      "cell_type": "code",
      "source": [
        "#TODO5*\n",
        "#модифицируйте решение задания TODO1:\n",
        "#теперь для введенного пользователем производителя вы должны вывести строку, содержащую перечисление моделей и БЕЗ названия производителя.\n",
        "#например, пользователь ввел \"Autel\". ваша программа должна вывести вот такой результат: \"Evo II Pro, Evo Nano, Evo Lite Plus\". для этого вам понадобится несколько функций работы со строками. решить эту задачу можно несколькими разными способами\n",
        "#производители те же: DJI, Autel, Parrot, Ryze, Eachine\n",
        "#-------------------------------------------------------------------------------\n",
        "companyName = input().casefold()\n",
        "Out = []\n",
        "for i in range(0,len(drone_list)):\n",
        "  if (drone_list[i].casefold().startswith(companyName)):\n",
        "    for j in range(len(companyName)+1, len(drone_list[i])):\n",
        "      Out.append(drone_list[i][j])\n",
        "    Out.append(', ')\n",
        "Out.pop(len(Out)-1)\n",
        "print(\"\".join(Out))\n",
        "#-------------------------------------------------------------------------------"
      ],
      "metadata": {
        "id": "AJpZM_CcGBzJ"
      },
      "execution_count": null,
      "outputs": []
    }
  ]
}